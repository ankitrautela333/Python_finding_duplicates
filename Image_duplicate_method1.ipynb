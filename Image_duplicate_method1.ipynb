{
 "cells": [
  {
   "cell_type": "code",
   "execution_count": 13,
   "id": "53f5ec03",
   "metadata": {},
   "outputs": [],
   "source": [
    "from PIL import Image\n",
    "import os"
   ]
  },
  {
   "cell_type": "code",
   "execution_count": 6,
   "id": "894cf413",
   "metadata": {},
   "outputs": [
    {
     "name": "stdout",
     "output_type": "stream",
     "text": [
      "Collecting ImageHash\n",
      "  Downloading ImageHash-4.3.1-py2.py3-none-any.whl (296 kB)\n",
      "     -------------------------------------- 296.5/296.5 kB 9.2 MB/s eta 0:00:00\n",
      "Requirement already satisfied: scipy in c:\\users\\817840\\appdata\\roaming\\python\\python39\\site-packages (from ImageHash) (1.10.1)\n",
      "Requirement already satisfied: numpy in c:\\users\\817840\\appdata\\roaming\\python\\python39\\site-packages (from ImageHash) (1.26.4)\n",
      "Requirement already satisfied: pillow in c:\\users\\817840\\appdata\\roaming\\python\\python39\\site-packages (from ImageHash) (10.2.0)\n",
      "Requirement already satisfied: PyWavelets in c:\\users\\817840\\anaconda3\\lib\\site-packages (from ImageHash) (1.3.0)\n",
      "Installing collected packages: ImageHash\n",
      "Successfully installed ImageHash-4.3.1\n"
     ]
    }
   ],
   "source": [
    "!pip install ImageHash"
   ]
  },
  {
   "cell_type": "code",
   "execution_count": 8,
   "id": "5bb6de08",
   "metadata": {},
   "outputs": [],
   "source": [
    "import imagehash"
   ]
  },
  {
   "cell_type": "code",
   "execution_count": 16,
   "id": "5a7a7dfa",
   "metadata": {},
   "outputs": [],
   "source": [
    "hash0 = imagehash.average_hash(Image.open(\"C:\\\\Users\\\\817840\\\\OneDrive - Cognizant\\\\Documents\\\\GitHub\\\\Python_finding_duplicates\\\\Files\\\\MicrosoftTeams-image.png\")) \n",
    "hash1 = imagehash.average_hash(Image.open(\"C:\\\\Users\\\\817840\\OneDrive - Cognizant\\\\Documents\\\\GitHub\\\\Python_finding_duplicates\\\\Files\\\\MicrosoftTeams-image (1).png\")) "
   ]
  },
  {
   "cell_type": "code",
   "execution_count": 19,
   "id": "66174e75",
   "metadata": {},
   "outputs": [
    {
     "name": "stdout",
     "output_type": "stream",
     "text": [
      "007e7e7e7e7e7e3c\n"
     ]
    }
   ],
   "source": [
    "print(hash0)"
   ]
  },
  {
   "cell_type": "code",
   "execution_count": 20,
   "id": "0fb2ec88",
   "metadata": {},
   "outputs": [
    {
     "name": "stdout",
     "output_type": "stream",
     "text": [
      "00ff27274f67ff7e\n"
     ]
    }
   ],
   "source": [
    "print(hash1)"
   ]
  },
  {
   "cell_type": "code",
   "execution_count": 21,
   "id": "1a96dd2f",
   "metadata": {},
   "outputs": [
    {
     "name": "stdout",
     "output_type": "stream",
     "text": [
      "images are not similar\n"
     ]
    }
   ],
   "source": [
    "cutoff = 5  # maximum bits that could be different between the hashes. \n",
    "\n",
    "if hash0 - hash1 < cutoff:\n",
    "  print('images are similar')\n",
    "else:\n",
    "  print('images are not similar')"
   ]
  },
  {
   "cell_type": "code",
   "execution_count": null,
   "id": "7021cb82",
   "metadata": {},
   "outputs": [],
   "source": []
  },
  {
   "cell_type": "code",
   "execution_count": null,
   "id": "6f73bbce",
   "metadata": {},
   "outputs": [],
   "source": []
  },
  {
   "cell_type": "code",
   "execution_count": null,
   "id": "14569cdf",
   "metadata": {},
   "outputs": [],
   "source": []
  },
  {
   "cell_type": "code",
   "execution_count": null,
   "id": "54f49805",
   "metadata": {},
   "outputs": [],
   "source": []
  }
 ],
 "metadata": {
  "kernelspec": {
   "display_name": "Python 3 (ipykernel)",
   "language": "python",
   "name": "python3"
  },
  "language_info": {
   "codemirror_mode": {
    "name": "ipython",
    "version": 3
   },
   "file_extension": ".py",
   "mimetype": "text/x-python",
   "name": "python",
   "nbconvert_exporter": "python",
   "pygments_lexer": "ipython3",
   "version": "3.9.13"
  }
 },
 "nbformat": 4,
 "nbformat_minor": 5
}
