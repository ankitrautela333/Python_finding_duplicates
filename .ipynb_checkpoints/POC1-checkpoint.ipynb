{
 "cells": [
  {
   "cell_type": "code",
   "execution_count": 2,
   "id": "78270cff",
   "metadata": {},
   "outputs": [],
   "source": [
    "import hashlib\n",
    "import os"
   ]
  },
  {
   "cell_type": "code",
   "execution_count": 5,
   "id": "775ffdf1",
   "metadata": {},
   "outputs": [],
   "source": [
    "def compute_file_hash(file_path):\n",
    "    \"\"\"Compute the MD5 hash of a file.\"\"\"\n",
    "    hasher = hashlib.md5()\n",
    "    with open(file_path, 'rb') as file:\n",
    "        while chunk := file.read(8192):\n",
    "            hasher.update(chunk)\n",
    "    return hasher.hexdigest()"
   ]
  },
  {
   "cell_type": "code",
   "execution_count": 7,
   "id": "1b8bc4cb",
   "metadata": {},
   "outputs": [],
   "source": [
    "def find_exact_duplicates(directory):\n",
    "    \"\"\"Find exact duplicate files in a directory.\"\"\"\n",
    "    file_hashes = {}\n",
    "    duplicates = []\n",
    "\n",
    "    for root, _, files in os.walk(directory):\n",
    "        for filename in files:\n",
    "            file_path = os.path.join(root, filename)\n",
    "            file_hash = compute_file_hash(file_path)\n",
    "            if file_hash in file_hashes:\n",
    "                duplicates.append((file_path, file_hashes[file_hash]))\n",
    "            else:\n",
    "                file_hashes[file_hash] = file_path\n",
    "\n",
    "    return duplicates"
   ]
  },
  {
   "cell_type": "code",
   "execution_count": 8,
   "id": "bb583a96",
   "metadata": {},
   "outputs": [
    {
     "data": {
      "text/plain": [
       "'C:\\\\Users\\\\817840\\\\OneDrive - Cognizant\\\\2024\\\\AI-Engineer-Roadmap-2024\\\\Project POC\\\\Finding duplicates and % match'"
      ]
     },
     "execution_count": 8,
     "metadata": {},
     "output_type": "execute_result"
    }
   ],
   "source": [
    "os.getcwd()"
   ]
  },
  {
   "cell_type": "code",
   "execution_count": null,
   "id": "a1d982b6",
   "metadata": {},
   "outputs": [],
   "source": [
    "directory_path = 'C:\\\\Users\\\\817840\\\\OneDrive - Cognizant\\\\2024\\\\AI-Engineer-Roadmap-2024\\\\Project POC\\\\Finding duplicates and % match\\\\Files'\n",
    "exact_duplicates = find_exact_duplicates(directory_path)\n",
    "for file1, file2 in exact_duplicates:\n",
    "    print(f\"Exact duplicate found: {file1} and {file2}\")"
   ]
  }
 ],
 "metadata": {
  "kernelspec": {
   "display_name": "Python 3 (ipykernel)",
   "language": "python",
   "name": "python3"
  },
  "language_info": {
   "codemirror_mode": {
    "name": "ipython",
    "version": 3
   },
   "file_extension": ".py",
   "mimetype": "text/x-python",
   "name": "python",
   "nbconvert_exporter": "python",
   "pygments_lexer": "ipython3",
   "version": "3.9.13"
  }
 },
 "nbformat": 4,
 "nbformat_minor": 5
}
