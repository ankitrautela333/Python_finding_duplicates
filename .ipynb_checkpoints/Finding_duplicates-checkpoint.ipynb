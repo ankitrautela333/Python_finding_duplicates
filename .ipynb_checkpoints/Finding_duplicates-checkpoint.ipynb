{
 "cells": [
  {
   "cell_type": "code",
   "execution_count": 1,
   "id": "e737afdd",
   "metadata": {},
   "outputs": [],
   "source": [
    "!pip install docx2txt\n",
    "!pip install sentence_transformers\n",
    "!pip install PyPDF2"
   ]
  },
  {
   "cell_type": "code",
   "execution_count": null,
   "id": "5b960f3a",
   "metadata": {},
   "outputs": [],
   "source": [
    "import os\n",
    "import hashlib\n",
    "from shutil import move"
   ]
  },
  {
   "cell_type": "code",
   "execution_count": null,
   "id": "fb56403f",
   "metadata": {},
   "outputs": [],
   "source": [
    "from sentence_transformers import SentenceTransformer\n",
    "import PyPDF2\n",
    "import docx2txt"
   ]
  },
  {
   "cell_type": "code",
   "execution_count": null,
   "id": "14888fd3",
   "metadata": {},
   "outputs": [],
   "source": [
    "# Define directory paths\n",
    "document_folder = \"C:\\\\Users\\\\817840\\\\OneDrive - Cognizant\\\\2024\\\\AI-Engineer-Roadmap-2024\\\\Project POC\\\\Finding duplicates and % match\\\\Files\"\n",
    "duplicates_folder = \"C:\\\\Users\\\\817840\\\\OneDrive - Cognizant\\\\2024\\\\AI-Engineer-Roadmap-2024\\\\Project POC\\\\Finding duplicates and % match\\\\Files\\\\Duplicate_files\""
   ]
  },
  {
   "cell_type": "code",
   "execution_count": null,
   "id": "87f68fa6",
   "metadata": {},
   "outputs": [],
   "source": [
    "def create_hash_database(folder_path):\n",
    "    hash_database = {} #creating a dictionary for hash_database\n",
    "    for filename in os.listdir(folder_path):\n",
    "        file_path = os.path.join(folder_path, filename)\n",
    "        if os.path.isfile(file_path):\n",
    "            try:\n",
    "                with open(file_path, 'rb') as f:\n",
    "                    md5_hash = hashlib.md5(f.read()).hexdigest()\n",
    "                    sha256_hash = hashlib.sha256(f.read()).hexdigest()\n",
    "                hash_database[filename] = (md5_hash, sha256_hash)\n",
    "            except FileNotFoundError:\n",
    "                print(f\"Error: File '{filename}' not found. Hence skipping...\")\n",
    "    return hash_database   "
   ]
  },
  {
   "cell_type": "code",
   "execution_count": null,
   "id": "5638bf38",
   "metadata": {},
   "outputs": [],
   "source": [
    "def check_duplicate(filename, hash_database):\n",
    "    if filename in hash_database:\n",
    "        return True\n",
    "    return False"
   ]
  },
  {
   "cell_type": "code",
   "execution_count": 49,
   "id": "bab1ceb3",
   "metadata": {},
   "outputs": [],
   "source": [
    "def move_duplicate(filename, source_folder, destination_folder):\n",
    "    source_path = os.path.join(source_folder, filename)\n",
    "    destination_path = os.path.join(destination_folder, filename)\n",
    "    try:\n",
    "        move(source_path, destination_path)\n",
    "        print(f\"Duplicate '{filename}' moved to duplicate folder.\")\n",
    "    except Exception as e:\n",
    "        #print(f\"Error moving '{filename}': {e}\")"
   ]
  },
  {
   "cell_type": "code",
   "execution_count": 50,
   "id": "f006807d",
   "metadata": {},
   "outputs": [],
   "source": [
    "def extract_text(path):\n",
    "    text = \"\"\n",
    "    file_ext= path.split('.')[-1]    \n",
    "    if file_ext == 'docx':\n",
    "        text =docx2txt.process(path)\n",
    "        \n",
    "    elif file_ext == 'pdf':\n",
    "        with open(path, \"rb\") as pdf_file:\n",
    "            pdf_reader = PyPDF2.PdfReader(pdf_file)\n",
    "            for page_num in range(len(pdf_reader.pages)):\n",
    "                page = pdf_reader.pages[page_num]\n",
    "                text += page.extract_text()\n",
    "    else:\n",
    "        pass\n",
    "\n",
    "    return text"
   ]
  },
  {
   "cell_type": "code",
   "execution_count": null,
   "id": "470f7734",
   "metadata": {},
   "outputs": [],
   "source": [
    "sentences_1=extract_text(r\"C:\\Users\\817840\\OneDrive - Cognizant\\2024\\Official\\pythonProject\\Finding duplicates and % match\\Files\\Machine learning - Wikipedia_1page.pdf\")\n",
    "sentences_2=extract_text(r\"C:\\Users\\817840\\OneDrive - Cognizant\\2024\\Official\\pythonProject\\Finding duplicates and % match\\Files\\sample.doc\")"
   ]
  },
  {
   "cell_type": "code",
   "execution_count": null,
   "id": "d2ef7f15",
   "metadata": {},
   "outputs": [],
   "source": []
  },
  {
   "cell_type": "code",
   "execution_count": null,
   "id": "b440ceca",
   "metadata": {},
   "outputs": [],
   "source": []
  },
  {
   "cell_type": "code",
   "execution_count": null,
   "id": "53e5c065",
   "metadata": {},
   "outputs": [],
   "source": []
  },
  {
   "cell_type": "code",
   "execution_count": 52,
   "id": "6d642df7",
   "metadata": {},
   "outputs": [],
   "source": []
  },
  {
   "cell_type": "code",
   "execution_count": 55,
   "id": "ffee7abc",
   "metadata": {},
   "outputs": [
    {
     "name": "stdout",
     "output_type": "stream",
     "text": [
      "Hash database updated.\n"
     ]
    }
   ],
   "source": [
    "def main():\n",
    "    #load existing hash database or create a new one\n",
    "    if os.path.exists(\"hash_database.txt\"):\n",
    "        with open(\"hash_database.txt\", \"r\") as f:\n",
    "            hash_database = eval(f.read())\n",
    "    else:\n",
    "        hash_database = create_hash_database(document_folder)\n",
    "        with open(\"hash_database.txt\", \"w\") as f:\n",
    "            f.write(str(hash_database))\n",
    "    \n",
    "    #Check for new documents\n",
    "    for filename in os.listdir(document_folder):\n",
    "        file_path = os.path.join(document_folder, filename)\n",
    "        if os.path.isfile(file_path):\n",
    "            #New document: update hash database and potentially move existing duplicates\n",
    "            try:\n",
    "                with open(file_path, \"rb\") as f:\n",
    "                    md5_hash = hashlib.md5(f.read()).hexdigest()\n",
    "                    sha256_hash = hashlib.sha256(f.read()).hexdigest()\n",
    "                hash_database[filename] = (md5_hash, sha256_hash)\n",
    "                \n",
    "                #check for existing duplicates based on MD5 or SHA-256\n",
    "                for existing_filename, existing_hashes in hash_database.items():\n",
    "                    if(existing_filename != filename) and (md5_hash == existing_hashes[0]): #checking for MD5\n",
    "                        #move existing duplicates\n",
    "                        move_duplicate(existing_filename, document_folder, duplicates_folder)\n",
    "                        break #only move one duplicate per new document\n",
    "            except FileNotFoundError:\n",
    "                print(f\"Error: File'{filename}' not found. Skipping...\")\n",
    "\n",
    "    with open(\"hash_database.txt\", \"w\") as f:\n",
    "        f.write(str(hash_database))\n",
    "    print(\"Hash database updated.\")\n",
    "    \n",
    "\n",
    "if __name__ == \"__main__\":\n",
    "    main()\n"
   ]
  },
  {
   "cell_type": "code",
   "execution_count": 19,
   "id": "075a31ac",
   "metadata": {},
   "outputs": [],
   "source": [
    "model = SentenceTransformer('BAAI/bge-large-zh-v1.5')\n",
    "embeddings_1 = model.encode(sentences_1, normalize_embeddings=True)\n",
    "embeddings_2 = model.encode(sentences_2, normalize_embeddings=True)\n",
    "similarity = embeddings_1 @ embeddings_2.T\n",
    "if similarity > 0.80:\n",
    "    print(f\"Similar Document with similarity score of {similarity}\")\n",
    "else:\n",
    "    print(f\"Different Document with similarity score of {similarity}\")"
   ]
  },
  {
   "cell_type": "code",
   "execution_count": null,
   "id": "40d58edf",
   "metadata": {},
   "outputs": [],
   "source": []
  },
  {
   "cell_type": "code",
   "execution_count": null,
   "id": "e33b9bff",
   "metadata": {},
   "outputs": [],
   "source": []
  },
  {
   "cell_type": "code",
   "execution_count": null,
   "id": "53e91304",
   "metadata": {},
   "outputs": [],
   "source": []
  },
  {
   "cell_type": "code",
   "execution_count": null,
   "id": "1c4893cf",
   "metadata": {},
   "outputs": [],
   "source": []
  },
  {
   "cell_type": "code",
   "execution_count": null,
   "id": "eaebf4d5",
   "metadata": {},
   "outputs": [],
   "source": []
  }
 ],
 "metadata": {
  "kernelspec": {
   "display_name": "Python 3 (ipykernel)",
   "language": "python",
   "name": "python3"
  },
  "language_info": {
   "codemirror_mode": {
    "name": "ipython",
    "version": 3
   },
   "file_extension": ".py",
   "mimetype": "text/x-python",
   "name": "python",
   "nbconvert_exporter": "python",
   "pygments_lexer": "ipython3",
   "version": "3.9.13"
  }
 },
 "nbformat": 4,
 "nbformat_minor": 5
}
