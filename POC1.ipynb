{
 "cells": [
  {
   "cell_type": "code",
   "execution_count": 5,
   "id": "1b005d94",
   "metadata": {},
   "outputs": [],
   "source": [
    "import hashlib\n",
    "import os"
   ]
  },
  {
   "cell_type": "code",
   "execution_count": 6,
   "id": "9917171f",
   "metadata": {},
   "outputs": [],
   "source": [
    "def compute_file_hash(file_path):\n",
    "    \"\"\"Compute the MD5 hash of a file.\"\"\"\n",
    "    hasher = hashlib.md5()\n",
    "    with open(file_path, 'rb') as file:\n",
    "        while chunk := file.read(8192):\n",
    "            hasher.update(chunk)\n",
    "    return hasher.hexdigest()"
   ]
  },
  {
   "cell_type": "code",
   "execution_count": 7,
   "id": "824cee24",
   "metadata": {},
   "outputs": [],
   "source": [
    "def find_exact_duplicates(directory):\n",
    "    \"\"\"Find exact duplicate files in a directory.\"\"\"\n",
    "    file_hashes = {}\n",
    "    duplicates = []\n",
    "\n",
    "    for root, _, files in os.walk(directory):\n",
    "        for filename in files:\n",
    "            file_path = os.path.join(root, filename)\n",
    "            file_hash = compute_file_hash(file_path)\n",
    "            if file_hash in file_hashes:\n",
    "                duplicates.append((file_path, file_hashes[file_hash]))\n",
    "            else:\n",
    "                file_hashes[file_hash] = file_path\n",
    "\n",
    "    return duplicates"
   ]
  },
  {
   "cell_type": "code",
   "execution_count": 8,
   "id": "9d327d7e",
   "metadata": {},
   "outputs": [
    {
     "data": {
      "text/plain": [
       "'C:\\\\Users\\\\817840\\\\OneDrive - Cognizant\\\\2024\\\\AI-Engineer-Roadmap-2024\\\\Project POC\\\\Finding duplicates and % match'"
      ]
     },
     "execution_count": 8,
     "metadata": {},
     "output_type": "execute_result"
    }
   ],
   "source": [
    "os.getcwd()"
   ]
  },
  {
   "cell_type": "code",
   "execution_count": 9,
   "id": "2dfceaaf",
   "metadata": {},
   "outputs": [
    {
     "name": "stdout",
     "output_type": "stream",
     "text": [
      "Exact duplicate found: C:\\Users\\817840\\OneDrive - Cognizant\\2024\\AI-Engineer-Roadmap-2024\\Project POC\\Finding duplicates and % match\\Files\\Hugging Face.docx and C:\\Users\\817840\\OneDrive - Cognizant\\2024\\AI-Engineer-Roadmap-2024\\Project POC\\Finding duplicates and % match\\Files\\Hugging Face - Copy.docx\n",
      "Exact duplicate found: C:\\Users\\817840\\OneDrive - Cognizant\\2024\\AI-Engineer-Roadmap-2024\\Project POC\\Finding duplicates and % match\\Files\\Kupdf_net_irctc_ticket_format.pdf and C:\\Users\\817840\\OneDrive - Cognizant\\2024\\AI-Engineer-Roadmap-2024\\Project POC\\Finding duplicates and % match\\Files\\Kupdf_net_irctc_ticket_format - Copy.pdf\n",
      "Exact duplicate found: C:\\Users\\817840\\OneDrive - Cognizant\\2024\\AI-Engineer-Roadmap-2024\\Project POC\\Finding duplicates and % match\\Files\\MicrosoftTeams-image.png and C:\\Users\\817840\\OneDrive - Cognizant\\2024\\AI-Engineer-Roadmap-2024\\Project POC\\Finding duplicates and % match\\Files\\MicrosoftTeams-image - Copy.png\n"
     ]
    }
   ],
   "source": [
    "directory_path = 'C:\\\\Users\\\\817840\\\\OneDrive - Cognizant\\\\2024\\\\AI-Engineer-Roadmap-2024\\\\Project POC\\\\Finding duplicates and % match\\\\Files'\n",
    "exact_duplicates = find_exact_duplicates(directory_path)\n",
    "for file1, file2 in exact_duplicates:\n",
    "    print(f\"Exact duplicate found: {file1} and {file2}\")"
   ]
  },
  {
   "cell_type": "code",
   "execution_count": 1,
   "id": "3d8b054e",
   "metadata": {},
   "outputs": [],
   "source": []
  },
  {
   "cell_type": "code",
   "execution_count": null,
   "id": "39dfb2c2",
   "metadata": {},
   "outputs": [],
   "source": []
  },
  {
   "cell_type": "code",
   "execution_count": 3,
   "id": "ea55ceae",
   "metadata": {},
   "outputs": [],
   "source": []
  },
  {
   "cell_type": "code",
   "execution_count": null,
   "id": "de8e8794",
   "metadata": {},
   "outputs": [],
   "source": []
  }
 ],
 "metadata": {
  "kernelspec": {
   "display_name": "Python 3 (ipykernel)",
   "language": "python",
   "name": "python3"
  },
  "language_info": {
   "codemirror_mode": {
    "name": "ipython",
    "version": 3
   },
   "file_extension": ".py",
   "mimetype": "text/x-python",
   "name": "python",
   "nbconvert_exporter": "python",
   "pygments_lexer": "ipython3",
   "version": "3.9.13"
  }
 },
 "nbformat": 4,
 "nbformat_minor": 5
}
