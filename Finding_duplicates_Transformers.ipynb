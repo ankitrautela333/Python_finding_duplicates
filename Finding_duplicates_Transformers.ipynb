{
 "cells": [
  {
   "cell_type": "code",
   "execution_count": null,
   "id": "86214128",
   "metadata": {},
   "outputs": [],
   "source": [
    "import cv2\n",
    "from pytesseract import pytesseract\n",
    "import transformers\n",
    "\n",
    "def extract_text(image_path):\n",
    "  \"\"\"Extracts text from an image using Tesseract OCR.\"\"\"\n",
    "  img = cv2.imread(image_path)\n",
    "  gray = cv2.cvtColor(img, cv2.COLOR_BGR2GRAY)\n",
    "  text = pytesseract.image_to_string(gray)\n",
    "  return text.lower()  # Convert to lowercase for consistency\n",
    "\n",
    "def compare_text(text1, text2, model_name=\"sentence-transformers/all-mpnet-base-v2\"):\n",
    "  \"\"\"Compares two text strings using pre-trained sentence transformers.\"\"\"\n",
    "  # Load pre-trained sentence transformers model\n",
    "  model = transformers.SentenceTransformer.from_pretrained(model_name)\n",
    "\n",
    "  # Encode texts into sentence embeddings\n",
    "  embeddings = model.encode([text1, text2])\n",
    "\n",
    "  # Calculate cosine similarity between embeddings\n",
    "  similarity = transformers.util.cosine_similarity(embeddings[0].unsqueeze(0), embeddings[1].unsqueeze(0))[0][0].item()\n",
    "  return similarity\n",
    "\n",
    "# Example usage\n",
    "image_text = extract_text(\"path/to/your/image.jpg\")  # Replace with your image path\n",
    "reference_text = \"This is the text string to compare with.\"\n",
    "\n",
    "similarity_score = compare_text(image_text, reference_text)\n",
    "\n",
    "print(f\"Similarity score between image text and reference text: {similarity_score}\")\n",
    "\n",
    "if similarity_score > 0.5:\n",
    "  print(\"The texts are considered similar.\")\n",
    "else:\n",
    "  print(\"The texts are not very similar.\")\n"
   ]
  }
 ],
 "metadata": {
  "kernelspec": {
   "display_name": "Python 3 (ipykernel)",
   "language": "python",
   "name": "python3"
  },
  "language_info": {
   "codemirror_mode": {
    "name": "ipython",
    "version": 3
   },
   "file_extension": ".py",
   "mimetype": "text/x-python",
   "name": "python",
   "nbconvert_exporter": "python",
   "pygments_lexer": "ipython3",
   "version": "3.9.13"
  }
 },
 "nbformat": 4,
 "nbformat_minor": 5
}
